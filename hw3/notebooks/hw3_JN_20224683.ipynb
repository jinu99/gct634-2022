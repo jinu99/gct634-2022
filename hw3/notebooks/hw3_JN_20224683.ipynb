{
  "cells": [
    {
      "cell_type": "markdown",
      "metadata": {
        "id": "9TKapq8RWc2E"
      },
      "source": [
        "# Environment setting"
      ]
    },
    {
      "cell_type": "code",
      "execution_count": 1,
      "metadata": {
        "colab": {
          "base_uri": "https://localhost:8080/"
        },
        "id": "LDNDQsHsRU9e",
        "outputId": "e02fb3f8-b8b2-4c85-ef38-a122bbe718d5"
      },
      "outputs": [
        {
          "output_type": "stream",
          "name": "stdout",
          "text": [
            "Cloning into 'gct634-2022'...\n",
            "remote: Enumerating objects: 145, done.\u001b[K\n",
            "remote: Counting objects: 100% (98/98), done.\u001b[K\n",
            "remote: Compressing objects: 100% (65/65), done.\u001b[K\n",
            "remote: Total 145 (delta 46), reused 74 (delta 25), pack-reused 47\u001b[K\n",
            "Receiving objects: 100% (145/145), 42.78 MiB | 38.56 MiB/s, done.\n",
            "Resolving deltas: 100% (54/54), done.\n"
          ]
        }
      ],
      "source": [
        "! rm -rf gct634-2022/\n",
        "! git clone https://github.com/jinu99/gct634-2022.git"
      ]
    },
    {
      "cell_type": "code",
      "execution_count": 2,
      "metadata": {
        "colab": {
          "base_uri": "https://localhost:8080/"
        },
        "id": "lYylzJmARj_i",
        "outputId": "a143ac79-0989-447f-964d-4443c50c2702"
      },
      "outputs": [
        {
          "output_type": "stream",
          "name": "stdout",
          "text": [
            "/content/gct634-2022/hw3\n"
          ]
        }
      ],
      "source": [
        "%cd gct634-2022/hw3"
      ]
    },
    {
      "cell_type": "code",
      "execution_count": 3,
      "metadata": {
        "colab": {
          "base_uri": "https://localhost:8080/"
        },
        "id": "my0XWbfjR7tC",
        "outputId": "3e4cd137-5b43-4db2-e21b-1de3d400279d"
      },
      "outputs": [
        {
          "output_type": "stream",
          "name": "stdout",
          "text": [
            "/usr/local/lib/python3.7/dist-packages/gdown/cli.py:131: FutureWarning: Option `--id` was deprecated in version 4.3.1 and will be removed in 5.0. You don't need to pass it anymore to use a file ID.\n",
            "  category=FutureWarning,\n",
            "Downloading...\n",
            "From: https://drive.google.com/uc?id=1wvN_ZWDiss1YCpC7GAPBMMlyrFYOB6NZ\n",
            "To: /content/gct634-2022/hw3/maestro_small.zip\n",
            "100% 1.14G/1.14G [00:30<00:00, 36.8MB/s]\n"
          ]
        }
      ],
      "source": [
        "! gdown --id 1wvN_ZWDiss1YCpC7GAPBMMlyrFYOB6NZ"
      ]
    },
    {
      "cell_type": "code",
      "execution_count": 4,
      "metadata": {
        "id": "K2FjlYNfSZ4J"
      },
      "outputs": [],
      "source": [
        "! unzip -q maestro_small.zip"
      ]
    },
    {
      "cell_type": "code",
      "execution_count": 5,
      "metadata": {
        "colab": {
          "base_uri": "https://localhost:8080/"
        },
        "id": "OwXbtT8qS9CU",
        "outputId": "0589c2f7-b370-43d2-9eec-dfbd7babf942"
      },
      "outputs": [
        {
          "output_type": "stream",
          "name": "stdout",
          "text": [
            "2004  2006  2008  2009\t2011  2013  2014  2015\t2017  2018  data.json\n"
          ]
        }
      ],
      "source": [
        "! ls data"
      ]
    },
    {
      "cell_type": "code",
      "execution_count": 6,
      "metadata": {
        "colab": {
          "base_uri": "https://localhost:8080/"
        },
        "id": "TkioM7MzTAda",
        "outputId": "b1acd960-271a-4914-b4aa-2a7ce941e979"
      },
      "outputs": [
        {
          "output_type": "stream",
          "name": "stdout",
          "text": [
            "1.12.1+cu113\n"
          ]
        }
      ],
      "source": [
        "import torch\n",
        "print(torch.__version__)"
      ]
    },
    {
      "cell_type": "markdown",
      "metadata": {
        "id": "T05ogW4GWivi"
      },
      "source": [
        "If torch version == 1.6.x, install torchaudio==0.6"
      ]
    },
    {
      "cell_type": "code",
      "execution_count": 7,
      "metadata": {
        "colab": {
          "base_uri": "https://localhost:8080/",
          "height": 1000
        },
        "id": "1UddYMGCTbeE",
        "outputId": "7c997e63-86be-4715-d1a8-e8061b92217e"
      },
      "outputs": [
        {
          "output_type": "stream",
          "name": "stdout",
          "text": [
            "Looking in indexes: https://pypi.org/simple, https://us-python.pkg.dev/colab-wheels/public/simple/\n",
            "Collecting torch<1.10.0,>=1.6.0\n",
            "  Downloading torch-1.9.1-cp37-cp37m-manylinux1_x86_64.whl (831.4 MB)\n",
            "\u001b[K     |████████████████████████████████| 831.4 MB 6.0 kB/s \n",
            "\u001b[?25hRequirement already satisfied: torchaudio>=0.6.0 in /usr/local/lib/python3.7/dist-packages (from -r requirements.txt (line 2)) (0.12.1+cu113)\n",
            "Requirement already satisfied: numpy>=1.16.2 in /usr/local/lib/python3.7/dist-packages (from -r requirements.txt (line 3)) (1.21.6)\n",
            "Requirement already satisfied: tqdm in /usr/local/lib/python3.7/dist-packages (from -r requirements.txt (line 4)) (4.64.1)\n",
            "Requirement already satisfied: soundfile>=0.10.3 in /usr/local/lib/python3.7/dist-packages (from -r requirements.txt (line 5)) (0.11.0)\n",
            "\u001b[33mWARNING: Retrying (Retry(total=4, connect=None, read=None, redirect=None, status=None)) after connection broken by 'ProtocolError('Connection aborted.', ConnectionResetError(104, 'Connection reset by peer'))': /simple/mir-eval/\u001b[0m\n",
            "Collecting mir_eval==0.6\n",
            "  Downloading mir_eval-0.6.tar.gz (87 kB)\n",
            "\u001b[K     |████████████████████████████████| 87 kB 8.5 MB/s \n",
            "\u001b[?25hCollecting pretty_midi>=0.2.9\n",
            "  Downloading pretty_midi-0.2.9.tar.gz (5.6 MB)\n",
            "\u001b[K     |████████████████████████████████| 5.6 MB 52.9 MB/s \n",
            "\u001b[?25hRequirement already satisfied: scipy>=1.0.0 in /usr/local/lib/python3.7/dist-packages (from mir_eval==0.6->-r requirements.txt (line 6)) (1.7.3)\n",
            "Requirement already satisfied: future in /usr/local/lib/python3.7/dist-packages (from mir_eval==0.6->-r requirements.txt (line 6)) (0.16.0)\n",
            "Requirement already satisfied: six in /usr/local/lib/python3.7/dist-packages (from mir_eval==0.6->-r requirements.txt (line 6)) (1.15.0)\n",
            "Requirement already satisfied: typing-extensions in /usr/local/lib/python3.7/dist-packages (from torch<1.10.0,>=1.6.0->-r requirements.txt (line 1)) (4.1.1)\n",
            "Collecting torchaudio>=0.6.0\n",
            "  Downloading torchaudio-0.13.0-cp37-cp37m-manylinux1_x86_64.whl (4.2 MB)\n",
            "\u001b[K     |████████████████████████████████| 4.2 MB 59.3 MB/s \n",
            "\u001b[?25h  Downloading torchaudio-0.12.1-cp37-cp37m-manylinux1_x86_64.whl (3.7 MB)\n",
            "\u001b[K     |████████████████████████████████| 3.7 MB 62.6 MB/s \n",
            "\u001b[?25h  Downloading torchaudio-0.12.0-cp37-cp37m-manylinux1_x86_64.whl (3.7 MB)\n",
            "\u001b[K     |████████████████████████████████| 3.7 MB 52.4 MB/s \n",
            "\u001b[?25h  Downloading torchaudio-0.11.0-cp37-cp37m-manylinux1_x86_64.whl (2.9 MB)\n",
            "\u001b[K     |████████████████████████████████| 2.9 MB 67.1 MB/s \n",
            "\u001b[?25h  Downloading torchaudio-0.10.2-cp37-cp37m-manylinux1_x86_64.whl (2.9 MB)\n",
            "\u001b[K     |████████████████████████████████| 2.9 MB 58.1 MB/s \n",
            "\u001b[?25h  Downloading torchaudio-0.10.1-cp37-cp37m-manylinux1_x86_64.whl (2.9 MB)\n",
            "\u001b[K     |████████████████████████████████| 2.9 MB 63.7 MB/s \n",
            "\u001b[?25h  Downloading torchaudio-0.10.0-cp37-cp37m-manylinux1_x86_64.whl (2.9 MB)\n",
            "\u001b[K     |████████████████████████████████| 2.9 MB 74.6 MB/s \n",
            "\u001b[?25h  Downloading torchaudio-0.9.1-cp37-cp37m-manylinux1_x86_64.whl (1.9 MB)\n",
            "\u001b[K     |████████████████████████████████| 1.9 MB 55.4 MB/s \n",
            "\u001b[?25hRequirement already satisfied: cffi>=1.0 in /usr/local/lib/python3.7/dist-packages (from soundfile>=0.10.3->-r requirements.txt (line 5)) (1.15.1)\n",
            "Collecting mido>=1.1.16\n",
            "  Downloading mido-1.2.10-py2.py3-none-any.whl (51 kB)\n",
            "\u001b[K     |████████████████████████████████| 51 kB 8.2 MB/s \n",
            "\u001b[?25hRequirement already satisfied: pycparser in /usr/local/lib/python3.7/dist-packages (from cffi>=1.0->soundfile>=0.10.3->-r requirements.txt (line 5)) (2.21)\n",
            "Building wheels for collected packages: mir-eval, pretty-midi\n",
            "  Building wheel for mir-eval (setup.py) ... \u001b[?25l\u001b[?25hdone\n",
            "  Created wheel for mir-eval: filename=mir_eval-0.6-py3-none-any.whl size=96513 sha256=fbf4b21451d1fc418eb9bf46dc3765118e0febe5d165cf6375aa0433a73ace2a\n",
            "  Stored in directory: /root/.cache/pip/wheels/08/28/2d/006dbad29550bac8daf049ff34fa882655a7d3e77f3b67595e\n",
            "  Building wheel for pretty-midi (setup.py) ... \u001b[?25l\u001b[?25hdone\n",
            "  Created wheel for pretty-midi: filename=pretty_midi-0.2.9-py3-none-any.whl size=5591954 sha256=fb44de8110784311aa02225b387a030b8bcfee61158aec95980312b3d4fcee44\n",
            "  Stored in directory: /root/.cache/pip/wheels/ad/74/7c/a06473ca8dcb63efb98c1e67667ce39d52100f837835ea18fa\n",
            "Successfully built mir-eval pretty-midi\n",
            "Installing collected packages: torch, mido, torchaudio, pretty-midi, mir-eval\n",
            "  Attempting uninstall: torch\n",
            "    Found existing installation: torch 1.12.1+cu113\n",
            "    Uninstalling torch-1.12.1+cu113:\n",
            "      Successfully uninstalled torch-1.12.1+cu113\n",
            "  Attempting uninstall: torchaudio\n",
            "    Found existing installation: torchaudio 0.12.1+cu113\n",
            "    Uninstalling torchaudio-0.12.1+cu113:\n",
            "      Successfully uninstalled torchaudio-0.12.1+cu113\n",
            "\u001b[31mERROR: pip's dependency resolver does not currently take into account all the packages that are installed. This behaviour is the source of the following dependency conflicts.\n",
            "torchvision 0.13.1+cu113 requires torch==1.12.1, but you have torch 1.9.1 which is incompatible.\n",
            "torchtext 0.13.1 requires torch==1.12.1, but you have torch 1.9.1 which is incompatible.\u001b[0m\n",
            "Successfully installed mido-1.2.10 mir-eval-0.6 pretty-midi-0.2.9 torch-1.9.1 torchaudio-0.9.1\n"
          ]
        },
        {
          "output_type": "display_data",
          "data": {
            "application/vnd.colab-display-data+json": {
              "pip_warning": {
                "packages": [
                  "torch"
                ]
              }
            }
          },
          "metadata": {}
        }
      ],
      "source": [
        "! pip install -r requirements.txt"
      ]
    },
    {
      "cell_type": "markdown",
      "metadata": {
        "id": "_c5ZWam7KIN8"
      },
      "source": [
        "You may also need fluidsynth to play the transcription."
      ]
    },
    {
      "cell_type": "code",
      "execution_count": 8,
      "metadata": {
        "colab": {
          "base_uri": "https://localhost:8080/"
        },
        "id": "XNkAXzStKIN8",
        "outputId": "b82de7d7-142d-4e66-dcfb-b7df5edf7410"
      },
      "outputs": [
        {
          "output_type": "stream",
          "name": "stdout",
          "text": [
            "Reading package lists... Done\n",
            "Building dependency tree       \n",
            "Reading state information... Done\n",
            "The following package was automatically installed and is no longer required:\n",
            "  libnvidia-common-460\n",
            "Use 'apt autoremove' to remove it.\n",
            "The following additional packages will be installed:\n",
            "  fluid-soundfont-gm libfluidsynth1 libqt5x11extras5 qsynth\n",
            "Suggested packages:\n",
            "  fluid-soundfont-gs timidity jackd\n",
            "The following NEW packages will be installed:\n",
            "  fluid-soundfont-gm fluidsynth libfluidsynth1 libqt5x11extras5 qsynth\n",
            "0 upgraded, 5 newly installed, 0 to remove and 5 not upgraded.\n",
            "Need to get 120 MB of archives.\n",
            "After this operation, 150 MB of additional disk space will be used.\n",
            "Get:1 http://archive.ubuntu.com/ubuntu bionic/universe amd64 fluid-soundfont-gm all 3.1-5.1 [119 MB]\n",
            "Get:2 http://archive.ubuntu.com/ubuntu bionic/universe amd64 libfluidsynth1 amd64 1.1.9-1 [137 kB]\n",
            "Get:3 http://archive.ubuntu.com/ubuntu bionic/universe amd64 fluidsynth amd64 1.1.9-1 [20.7 kB]\n",
            "Get:4 http://archive.ubuntu.com/ubuntu bionic/universe amd64 libqt5x11extras5 amd64 5.9.5-0ubuntu1 [8,596 B]\n",
            "Get:5 http://archive.ubuntu.com/ubuntu bionic/universe amd64 qsynth amd64 0.5.0-2 [191 kB]\n",
            "Fetched 120 MB in 4s (29.7 MB/s)\n",
            "Selecting previously unselected package fluid-soundfont-gm.\n",
            "(Reading database ... 123941 files and directories currently installed.)\n",
            "Preparing to unpack .../fluid-soundfont-gm_3.1-5.1_all.deb ...\n",
            "Unpacking fluid-soundfont-gm (3.1-5.1) ...\n",
            "Selecting previously unselected package libfluidsynth1:amd64.\n",
            "Preparing to unpack .../libfluidsynth1_1.1.9-1_amd64.deb ...\n",
            "Unpacking libfluidsynth1:amd64 (1.1.9-1) ...\n",
            "Selecting previously unselected package fluidsynth.\n",
            "Preparing to unpack .../fluidsynth_1.1.9-1_amd64.deb ...\n",
            "Unpacking fluidsynth (1.1.9-1) ...\n",
            "Selecting previously unselected package libqt5x11extras5:amd64.\n",
            "Preparing to unpack .../libqt5x11extras5_5.9.5-0ubuntu1_amd64.deb ...\n",
            "Unpacking libqt5x11extras5:amd64 (5.9.5-0ubuntu1) ...\n",
            "Selecting previously unselected package qsynth.\n",
            "Preparing to unpack .../qsynth_0.5.0-2_amd64.deb ...\n",
            "Unpacking qsynth (0.5.0-2) ...\n",
            "Setting up libqt5x11extras5:amd64 (5.9.5-0ubuntu1) ...\n",
            "Setting up fluid-soundfont-gm (3.1-5.1) ...\n",
            "Setting up libfluidsynth1:amd64 (1.1.9-1) ...\n",
            "Setting up fluidsynth (1.1.9-1) ...\n",
            "Setting up qsynth (0.5.0-2) ...\n",
            "Processing triggers for hicolor-icon-theme (0.17-2) ...\n",
            "Processing triggers for mime-support (3.60ubuntu1) ...\n",
            "Processing triggers for libc-bin (2.27-3ubuntu1.6) ...\n",
            "Processing triggers for man-db (2.8.3-2ubuntu0.1) ...\n",
            "Looking in indexes: https://pypi.org/simple, https://us-python.pkg.dev/colab-wheels/public/simple/\n",
            "Collecting pyFluidSynth\n",
            "  Downloading pyFluidSynth-1.3.1-py3-none-any.whl (19 kB)\n",
            "Requirement already satisfied: numpy in /usr/local/lib/python3.7/dist-packages (from pyFluidSynth) (1.21.6)\n",
            "Installing collected packages: pyFluidSynth\n",
            "Successfully installed pyFluidSynth-1.3.1\n"
          ]
        }
      ],
      "source": [
        "! apt install fluidsynth; pip install pyFluidSynth "
      ]
    },
    {
      "cell_type": "markdown",
      "metadata": {
        "id": "4MFiDETNUU88"
      },
      "source": [
        "# Checkout dataset(same as notebooks.dataset.ipynb)"
      ]
    },
    {
      "cell_type": "code",
      "execution_count": 9,
      "metadata": {
        "id": "6nvo5gRGUKw6"
      },
      "outputs": [],
      "source": [
        "import matplotlib.pyplot as plt\n",
        "%matplotlib inline\n",
        "\n",
        "from dataset import MAESTRO_small\n",
        "from constants import HOP_SIZE"
      ]
    },
    {
      "cell_type": "code",
      "execution_count": 10,
      "metadata": {
        "colab": {
          "base_uri": "https://localhost:8080/"
        },
        "id": "cwIa2UbyUS8J",
        "outputId": "529f7973-6510-41d6-ca9b-b8c2d8d95496"
      },
      "outputs": [
        {
          "output_type": "stream",
          "name": "stdout",
          "text": [
            "Loading 1 group(s) of MAESTRO_small at data\n"
          ]
        },
        {
          "output_type": "stream",
          "name": "stderr",
          "text": [
            "Loading group debug: 100%|██████████| 10/10 [00:06<00:00,  1.50it/s]\n"
          ]
        }
      ],
      "source": [
        "example_dataset = MAESTRO_small(path='data', groups=['debug'], sequence_length=None, random_sample=True)"
      ]
    },
    {
      "cell_type": "code",
      "execution_count": 11,
      "metadata": {
        "colab": {
          "base_uri": "https://localhost:8080/"
        },
        "id": "9mr0nmTNUhhy",
        "outputId": "47b6420a-286c-4a10-b42c-bbbe1272d4c8"
      },
      "outputs": [
        {
          "output_type": "stream",
          "name": "stdout",
          "text": [
            "data: {'path': 'data/2004/MIDI-Unprocessed_SMF_12_01_2004_01-05_ORIG_MID--AUDIO_12_R1_2004_08_Track08_wav.flac', 'audio': tensor([-0.0002, -0.0002, -0.0001,  ...,  0.0149,  0.0022, -0.0390]), 'frame': tensor([[0., 0., 0.,  ..., 0., 0., 0.],\n",
            "        [0., 0., 0.,  ..., 0., 0., 0.],\n",
            "        [0., 0., 0.,  ..., 0., 0., 0.],\n",
            "        ...,\n",
            "        [0., 0., 0.,  ..., 0., 0., 0.],\n",
            "        [0., 0., 0.,  ..., 0., 0., 0.],\n",
            "        [0., 0., 0.,  ..., 0., 0., 0.]]), 'onset': tensor([[0., 0., 0.,  ..., 0., 0., 0.],\n",
            "        [0., 0., 0.,  ..., 0., 0., 0.],\n",
            "        [0., 0., 0.,  ..., 0., 0., 0.],\n",
            "        ...,\n",
            "        [0., 0., 0.,  ..., 0., 0., 0.],\n",
            "        [0., 0., 0.,  ..., 0., 0., 0.],\n",
            "        [0., 0., 0.,  ..., 0., 0., 0.]])}\n",
            "audio_shape: torch.Size([5411840])\n",
            "frame_roll_shape: torch.Size([10570, 88])\n",
            "onset_roll_shape: torch.Size([10570, 88])\n",
            "HOP_SIZE(512) x piano_roll length(10570): 5411840\n"
          ]
        }
      ],
      "source": [
        "data = example_dataset[1]\n",
        "print(f'data: {data}')\n",
        "print(f'audio_shape: {data[\"audio\"].shape}')\n",
        "print(f'frame_roll_shape: {data[\"frame\"].shape}')\n",
        "print(f'onset_roll_shape: {data[\"onset\"].shape}')\n",
        "\n",
        "print(f'HOP_SIZE({HOP_SIZE}) x piano_roll length({data[\"frame\"].shape[0]}): {HOP_SIZE*data[\"frame\"].shape[0]}')"
      ]
    },
    {
      "cell_type": "code",
      "execution_count": 12,
      "metadata": {
        "colab": {
          "base_uri": "https://localhost:8080/",
          "height": 881
        },
        "id": "zjnsY2uRUrdz",
        "outputId": "afff25ce-8e68-437a-bbfd-052109497f34"
      },
      "outputs": [
        {
          "output_type": "execute_result",
          "data": {
            "text/plain": [
              "<matplotlib.image.AxesImage at 0x7fdd1d743bd0>"
            ]
          },
          "metadata": {},
          "execution_count": 12
        },
        {
          "output_type": "display_data",
          "data": {
            "text/plain": [
              "<Figure size 720x1080 with 3 Axes>"
            ],
            "image/png": "[encoded data removed]"
          },
          "metadata": {
            "needs_background": "light"
          }
        }
      ],
      "source": [
        "plt.figure(figsize=(10,15))\n",
        "plt.subplot(311)\n",
        "plt.plot(data['audio'].numpy()[:400*HOP_SIZE])\n",
        "plt.autoscale(enable=True, axis='x', tight=True)\n",
        "plt.subplot(312)\n",
        "plt.imshow(data['frame'].numpy()[:400].T, aspect='auto', origin='bottom')\n",
        "plt.subplot(313)\n",
        "plt.imshow(data['onset'].numpy()[:400].T, aspect='auto', origin='bottom')"
      ]
    },
    {
      "cell_type": "markdown",
      "source": [
        "# Training"
      ],
      "metadata": {
        "id": "b3u97t9xvmG4"
      }
    },
    {
      "cell_type": "markdown",
      "metadata": {
        "id": "zjWOoLusUx3q"
      },
      "source": [
        "## Train 5k (Baseline)"
      ]
    },
    {
      "cell_type": "code",
      "execution_count": 13,
      "metadata": {
        "id": "0lhJlfYXUwAQ"
      },
      "outputs": [],
      "source": [
        "#! python train.py -i=5000"
      ]
    },
    {
      "cell_type": "markdown",
      "metadata": {
        "id": "LdGo6j9TmXrg"
      },
      "source": [
        "You will have your model checkpoints & decoded samples in runs/exp_{datetime} folder"
      ]
    },
    {
      "cell_type": "markdown",
      "source": [
        "## Train RNN model"
      ],
      "metadata": {
        "id": "-kJcoN3-UOYP"
      }
    },
    {
      "cell_type": "code",
      "source": [
        "! python train.py --model_type=rnn"
      ],
      "metadata": {
        "colab": {
          "base_uri": "https://localhost:8080/"
        },
        "id": "D1RnEdF1UJa3",
        "outputId": "dbe6c0d3-aeb2-400d-ad7d-a5f6502026f2"
      },
      "execution_count": 14,
      "outputs": [
        {
          "output_type": "stream",
          "name": "stdout",
          "text": [
            "Loading 1 group(s) of MAESTRO_small at data\n",
            "Loading group train: 100% 100/100 [00:41<00:00,  2.41it/s]\n",
            "Loading 1 group(s) of MAESTRO_small at data\n",
            "Loading group validation: 100% 20/20 [00:07<00:00,  2.83it/s]\n",
            " 10% 999/10000 [01:43<15:54,  9.43it/s, loss: 1.867e-01]/usr/local/lib/python3.7/dist-packages/mir_eval/transcription.py:167: UserWarning: Estimated notes are empty.\n",
            "  warnings.warn(\"Estimated notes are empty.\")\n",
            "\n",
            "metric/loss/frame_loss      : 0.1333\n",
            "metric/loss/onset_loss      : 0.0137\n",
            "metric/frame/frame_f1       : 0.1686\n",
            "metric/frame/onset_f1       : 0.0000\n",
            "metric/note/f1              : 0.0000\n",
            "metric/note-with-offsets/f1 : 0.0000\n",
            " 20% 1999/10000 [03:26<13:37,  9.79it/s, loss: 1.644e-01]\n",
            "metric/loss/frame_loss      : 0.1031\n",
            "metric/loss/onset_loss      : 0.0117\n",
            "metric/frame/frame_f1       : 0.3465\n",
            "metric/frame/onset_f1       : 0.0000\n",
            "metric/note/f1              : 0.0000\n",
            "metric/note-with-offsets/f1 : 0.0000\n",
            " 30% 2999/10000 [05:09<11:41,  9.99it/s, loss: 1.396e-01]\n",
            "metric/loss/frame_loss      : 0.1059\n",
            "metric/loss/onset_loss      : 0.0105\n",
            "metric/frame/frame_f1       : 0.4892\n",
            "metric/frame/onset_f1       : 0.0488\n",
            "metric/note/f1              : 0.0502\n",
            "metric/note-with-offsets/f1 : 0.0216\n",
            " 40% 3998/10000 [06:53<09:36, 10.42it/s, loss: 1.495e-01]\n",
            "metric/loss/frame_loss      : 0.0877\n",
            "metric/loss/onset_loss      : 0.0096\n",
            "metric/frame/frame_f1       : 0.4560\n",
            "metric/frame/onset_f1       : 0.1216\n",
            "metric/note/f1              : 0.1376\n",
            "metric/note-with-offsets/f1 : 0.0262\n",
            " 50% 4999/10000 [08:37<08:25,  9.90it/s, loss: 1.204e-01]\n",
            "metric/loss/frame_loss      : 0.0845\n",
            "metric/loss/onset_loss      : 0.0089\n",
            "metric/frame/frame_f1       : 0.5058\n",
            "metric/frame/onset_f1       : 0.2393\n",
            "metric/note/f1              : 0.2721\n",
            "metric/note-with-offsets/f1 : 0.0591\n",
            " 60% 5999/10000 [10:20<06:23, 10.44it/s, loss: 1.504e-01]\n",
            "metric/loss/frame_loss      : 0.0747\n",
            "metric/loss/onset_loss      : 0.0083\n",
            "metric/frame/frame_f1       : 0.5306\n",
            "metric/frame/onset_f1       : 0.3068\n",
            "metric/note/f1              : 0.3428\n",
            "metric/note-with-offsets/f1 : 0.0805\n",
            " 70% 6999/10000 [12:01<05:11,  9.62it/s, loss: 1.056e-01]\n",
            "metric/loss/frame_loss      : 0.0818\n",
            "metric/loss/onset_loss      : 0.0077\n",
            "metric/frame/frame_f1       : 0.5596\n",
            "metric/frame/onset_f1       : 0.3682\n",
            "metric/note/f1              : 0.4155\n",
            "metric/note-with-offsets/f1 : 0.1410\n",
            " 80% 7999/10000 [13:43<03:29,  9.57it/s, loss: 1.060e-01]\n",
            "metric/loss/frame_loss      : 0.0720\n",
            "metric/loss/onset_loss      : 0.0073\n",
            "metric/frame/frame_f1       : 0.5816\n",
            "metric/frame/onset_f1       : 0.3856\n",
            "metric/note/f1              : 0.4449\n",
            "metric/note-with-offsets/f1 : 0.1591\n",
            " 90% 8998/10000 [15:24<01:37, 10.23it/s, loss: 1.017e-01]\n",
            "metric/loss/frame_loss      : 0.0804\n",
            "metric/loss/onset_loss      : 0.0070\n",
            "metric/frame/frame_f1       : 0.5225\n",
            "metric/frame/onset_f1       : 0.4379\n",
            "metric/note/f1              : 0.4968\n",
            "metric/note-with-offsets/f1 : 0.1356\n",
            " 91% 9147/10000 [15:40<01:27,  9.73it/s, loss: 9.349e-02]\n",
            "Traceback (most recent call last):\n",
            "  File \"train.py\", line 181, in <module>\n",
            "    train(**vars(parser.parse_args()))\n",
            "  File \"train.py\", line 94, in train\n",
            "    frame_logit, onset_logit = model(batch['audio'])\n",
            "  File \"/usr/local/lib/python3.7/dist-packages/torch/nn/modules/module.py\", line 1051, in _call_impl\n",
            "    return forward_call(*input, **kwargs)\n",
            "  File \"/content/gct634-2022/hw3/model.py\", line 117, in forward\n",
            "    x = self.onset_lstm(mel)[0]\n",
            "  File \"/usr/local/lib/python3.7/dist-packages/torch/nn/modules/module.py\", line 1051, in _call_impl\n",
            "    return forward_call(*input, **kwargs)\n",
            "  File \"/usr/local/lib/python3.7/dist-packages/torch/nn/modules/rnn.py\", line 680, in forward\n",
            "    self.dropout, self.training, self.bidirectional, self.batch_first)\n",
            "KeyboardInterrupt\n"
          ]
        }
      ]
    },
    {
      "cell_type": "markdown",
      "source": [
        "## Train CRNN model"
      ],
      "metadata": {
        "id": "KR6rHCFRUCaI"
      }
    },
    {
      "cell_type": "code",
      "source": [
        "! python train.py --model_type=crnn"
      ],
      "metadata": {
        "id": "79nAoUKtTwfY",
        "colab": {
          "base_uri": "https://localhost:8080/"
        },
        "outputId": "f48d5c68-5cc9-4bb1-d40e-b7f1b9866429"
      },
      "execution_count": 15,
      "outputs": [
        {
          "output_type": "stream",
          "name": "stdout",
          "text": [
            "Loading 1 group(s) of MAESTRO_small at data\n",
            "Loading group train:   4% 4/100 [00:01<00:27,  3.43it/s]Exception ignored in: <generator object tqdm.__iter__ at 0x7f48812a7450>\n",
            "Traceback (most recent call last):\n",
            "  File \"/usr/local/lib/python3.7/dist-packages/tqdm/std.py\", line 1210, in __iter__\n",
            "    self.close()\n",
            "  File \"/usr/local/lib/python3.7/dist-packages/tqdm/std.py\", line 1289, in close\n",
            "    self._decr_instances(self)\n",
            "  File \"/usr/local/lib/python3.7/dist-packages/tqdm/std.py\", line 595, in _decr_instances\n",
            "    cls._instances.remove(instance)\n",
            "KeyboardInterrupt: \n",
            "Traceback (most recent call last):\n",
            "  File \"train.py\", line 181, in <module>\n",
            "    train(**vars(parser.parse_args()))\n",
            "  File \"train.py\", line 63, in train\n",
            "    random_sample=True)\n",
            "  File \"/content/gct634-2022/hw3/dataset.py\", line 47, in __init__\n",
            "    self.data.append(self.load(*input_files))\n",
            "  File \"/content/gct634-2022/hw3/dataset.py\", line 81, in load\n",
            "    midi:PrettyMIDI = pretty_midi.PrettyMIDI(midi_path)\n",
            "  File \"/usr/local/lib/python3.7/dist-packages/pretty_midi/pretty_midi.py\", line 69, in __init__\n",
            "    event.time += tick\n",
            "  File \"/usr/local/lib/python3.7/dist-packages/mido/messages/messages.py\", line 199, in _setattr\n",
            "    check_value(name, value)\n",
            "  File \"/usr/local/lib/python3.7/dist-packages/mido/messages/checks.py\", line 86, in check_value\n",
            "    _CHECKS[name](value)\n",
            "  File \"/usr/local/lib/python3.7/dist-packages/mido/messages/checks.py\", line 62, in check_time\n",
            "    if not isinstance(time, Real):\n",
            "KeyboardInterrupt\n"
          ]
        }
      ]
    },
    {
      "cell_type": "markdown",
      "source": [
        "## Train ONF model"
      ],
      "metadata": {
        "id": "Ij2yM1b1USI1"
      }
    },
    {
      "cell_type": "code",
      "source": [
        "! python train.py --model_type=ONF --save_midi"
      ],
      "metadata": {
        "id": "1iWlGINDURlv",
        "colab": {
          "base_uri": "https://localhost:8080/"
        },
        "outputId": "b84601c3-2787-4338-81a9-249996796e76"
      },
      "execution_count": 16,
      "outputs": [
        {
          "output_type": "stream",
          "name": "stdout",
          "text": [
            "Loading 1 group(s) of MAESTRO_small at data\n",
            "Loading group train: 100% 100/100 [00:38<00:00,  2.59it/s]\n",
            "Loading 1 group(s) of MAESTRO_small at data\n",
            "Loading group validation: 100% 20/20 [00:06<00:00,  2.94it/s]\n",
            " 10% 999/10000 [04:52<46:25,  3.23it/s, loss: 2.522e-01]/usr/local/lib/python3.7/dist-packages/mir_eval/transcription.py:167: UserWarning: Estimated notes are empty.\n",
            "  warnings.warn(\"Estimated notes are empty.\")\n",
            "\n",
            "metric/loss/frame_loss      : 0.1499\n",
            "metric/loss/onset_loss      : 0.0154\n",
            "metric/frame/frame_f1       : 0.0000\n",
            "metric/frame/onset_f1       : 0.0000\n",
            "metric/note/f1              : 0.0000\n",
            "metric/note-with-offsets/f1 : 0.0000\n",
            " 20% 1999/10000 [09:44<40:34,  3.29it/s, loss: 1.888e-01]\n",
            "metric/loss/frame_loss      : 0.1377\n",
            "metric/loss/onset_loss      : 0.0152\n",
            "metric/frame/frame_f1       : 0.0006\n",
            "metric/frame/onset_f1       : 0.0000\n",
            "metric/note/f1              : 0.0000\n",
            "metric/note-with-offsets/f1 : 0.0000\n",
            " 27% 2681/10000 [13:03<35:40,  3.42it/s, loss: 1.838e-01]\n",
            "Traceback (most recent call last):\n",
            "  File \"train.py\", line 181, in <module>\n",
            "    train(**vars(parser.parse_args()))\n",
            "  File \"train.py\", line 102, in train\n",
            "    clip_grad_norm_([parameter], 3.0)\n",
            "  File \"/usr/local/lib/python3.7/dist-packages/torch/nn/utils/clip_grad.py\", line 43, in clip_grad_norm_\n",
            "    if total_norm.isnan() or total_norm.isinf():\n",
            "KeyboardInterrupt\n"
          ]
        }
      ]
    },
    {
      "cell_type": "markdown",
      "source": [
        "# Result Visualization"
      ],
      "metadata": {
        "id": "YwCpwtaZeQs9"
      }
    },
    {
      "cell_type": "code",
      "source": [
        "# TODO: pick random testcase and compare the answer and prediction\n",
        "\n",
        "test_dataset = MAESTRO_small(path='data', groups=['test'], sequence_length=None, random_sample=True)"
      ],
      "metadata": {
        "id": "ofQgSSOZfYw-",
        "colab": {
          "base_uri": "https://localhost:8080/",
          "height": 400
        },
        "outputId": "1f6f7f67-6e66-4c22-cdd0-3ae347313d5f"
      },
      "execution_count": 17,
      "outputs": [
        {
          "output_type": "stream",
          "name": "stdout",
          "text": [
            "Loading 1 group(s) of MAESTRO_small at data\n"
          ]
        },
        {
          "output_type": "stream",
          "name": "stderr",
          "text": [
            "Loading group test:  36%|███▌      | 18/50 [00:06<00:11,  2.80it/s]\n"
          ]
        },
        {
          "output_type": "error",
          "ename": "KeyboardInterrupt",
          "evalue": "ignored",
          "traceback": [
            "\u001b[0;31m---------------------------------------------------------------------------\u001b[0m",
            "\u001b[0;31mKeyboardInterrupt\u001b[0m                         Traceback (most recent call last)",
            "\u001b[0;32m<ipython-input-17-fb34a6c473fa>\u001b[0m in \u001b[0;36m<module>\u001b[0;34m\u001b[0m\n\u001b[1;32m      1\u001b[0m \u001b[0;31m# TODO: pick random testcase and compare the answer and prediction\u001b[0m\u001b[0;34m\u001b[0m\u001b[0;34m\u001b[0m\u001b[0;34m\u001b[0m\u001b[0m\n\u001b[1;32m      2\u001b[0m \u001b[0;34m\u001b[0m\u001b[0m\n\u001b[0;32m----> 3\u001b[0;31m \u001b[0mtest_dataset\u001b[0m \u001b[0;34m=\u001b[0m \u001b[0mMAESTRO_small\u001b[0m\u001b[0;34m(\u001b[0m\u001b[0mpath\u001b[0m\u001b[0;34m=\u001b[0m\u001b[0;34m'data'\u001b[0m\u001b[0;34m,\u001b[0m \u001b[0mgroups\u001b[0m\u001b[0;34m=\u001b[0m\u001b[0;34m[\u001b[0m\u001b[0;34m'test'\u001b[0m\u001b[0;34m]\u001b[0m\u001b[0;34m,\u001b[0m \u001b[0msequence_length\u001b[0m\u001b[0;34m=\u001b[0m\u001b[0;32mNone\u001b[0m\u001b[0;34m,\u001b[0m \u001b[0mrandom_sample\u001b[0m\u001b[0;34m=\u001b[0m\u001b[0;32mTrue\u001b[0m\u001b[0;34m)\u001b[0m\u001b[0;34m\u001b[0m\u001b[0;34m\u001b[0m\u001b[0m\n\u001b[0m",
            "\u001b[0;32m/content/gct634-2022/hw3/dataset.py\u001b[0m in \u001b[0;36m__init__\u001b[0;34m(self, path, groups, sequence_length, hop_size, seed, random_sample)\u001b[0m\n\u001b[1;32m     45\u001b[0m             \u001b[0mfile_list\u001b[0m\u001b[0;34m:\u001b[0m\u001b[0mList\u001b[0m\u001b[0;34m[\u001b[0m\u001b[0mtuple\u001b[0m\u001b[0;34m]\u001b[0m \u001b[0;34m=\u001b[0m \u001b[0mself\u001b[0m\u001b[0;34m.\u001b[0m\u001b[0mget_file_path_list_of_group\u001b[0m\u001b[0;34m(\u001b[0m\u001b[0mgroup\u001b[0m\u001b[0;34m)\u001b[0m\u001b[0;34m\u001b[0m\u001b[0;34m\u001b[0m\u001b[0m\n\u001b[1;32m     46\u001b[0m             \u001b[0;32mfor\u001b[0m \u001b[0minput_files\u001b[0m \u001b[0;32min\u001b[0m \u001b[0mtqdm\u001b[0m\u001b[0;34m(\u001b[0m\u001b[0mfile_list\u001b[0m\u001b[0;34m,\u001b[0m \u001b[0mdesc\u001b[0m\u001b[0;34m=\u001b[0m\u001b[0;34mf'Loading group {group}'\u001b[0m\u001b[0;34m)\u001b[0m\u001b[0;34m:\u001b[0m\u001b[0;34m\u001b[0m\u001b[0;34m\u001b[0m\u001b[0m\n\u001b[0;32m---> 47\u001b[0;31m                 \u001b[0mself\u001b[0m\u001b[0;34m.\u001b[0m\u001b[0mdata\u001b[0m\u001b[0;34m.\u001b[0m\u001b[0mappend\u001b[0m\u001b[0;34m(\u001b[0m\u001b[0mself\u001b[0m\u001b[0;34m.\u001b[0m\u001b[0mload\u001b[0m\u001b[0;34m(\u001b[0m\u001b[0;34m*\u001b[0m\u001b[0minput_files\u001b[0m\u001b[0;34m)\u001b[0m\u001b[0;34m)\u001b[0m\u001b[0;34m\u001b[0m\u001b[0;34m\u001b[0m\u001b[0m\n\u001b[0m\u001b[1;32m     48\u001b[0m \u001b[0;34m\u001b[0m\u001b[0m\n\u001b[1;32m     49\u001b[0m     \u001b[0;34m@\u001b[0m\u001b[0mclassmethod\u001b[0m\u001b[0;34m\u001b[0m\u001b[0;34m\u001b[0m\u001b[0m\n",
            "\u001b[0;32m/content/gct634-2022/hw3/dataset.py\u001b[0m in \u001b[0;36mload\u001b[0;34m(self, audio_path, midi_path)\u001b[0m\n\u001b[1;32m     85\u001b[0m         \u001b[0maudio_tensor\u001b[0m \u001b[0;34m=\u001b[0m \u001b[0maudio_tensor\u001b[0m\u001b[0;34m[\u001b[0m\u001b[0;34m:\u001b[0m\u001b[0mframe_length\u001b[0m \u001b[0;34m*\u001b[0m \u001b[0mself\u001b[0m\u001b[0;34m.\u001b[0m\u001b[0mhop_size\u001b[0m\u001b[0;34m]\u001b[0m\u001b[0;34m\u001b[0m\u001b[0;34m\u001b[0m\u001b[0m\n\u001b[1;32m     86\u001b[0m \u001b[0;34m\u001b[0m\u001b[0m\n\u001b[0;32m---> 87\u001b[0;31m         \u001b[0mframe\u001b[0m\u001b[0;34m:\u001b[0m\u001b[0mndarray\u001b[0m \u001b[0;34m=\u001b[0m \u001b[0mmidi\u001b[0m\u001b[0;34m.\u001b[0m\u001b[0mget_piano_roll\u001b[0m\u001b[0;34m(\u001b[0m\u001b[0mfs\u001b[0m\u001b[0;34m=\u001b[0m\u001b[0mframes_per_sec\u001b[0m\u001b[0;34m)\u001b[0m\u001b[0;34m\u001b[0m\u001b[0;34m\u001b[0m\u001b[0m\n\u001b[0m\u001b[1;32m     88\u001b[0m \u001b[0;34m\u001b[0m\u001b[0m\n\u001b[1;32m     89\u001b[0m         \u001b[0monset\u001b[0m \u001b[0;34m=\u001b[0m \u001b[0mnp\u001b[0m\u001b[0;34m.\u001b[0m\u001b[0mzeros_like\u001b[0m\u001b[0;34m(\u001b[0m\u001b[0mframe\u001b[0m\u001b[0;34m)\u001b[0m\u001b[0;34m\u001b[0m\u001b[0;34m\u001b[0m\u001b[0m\n",
            "\u001b[0;32m/usr/local/lib/python3.7/dist-packages/pretty_midi/pretty_midi.py\u001b[0m in \u001b[0;36mget_piano_roll\u001b[0;34m(self, fs, times, pedal_threshold)\u001b[0m\n\u001b[1;32m    786\u001b[0m         piano_rolls = [i.get_piano_roll(fs=fs, times=times,\n\u001b[1;32m    787\u001b[0m                                         pedal_threshold=pedal_threshold)\n\u001b[0;32m--> 788\u001b[0;31m                        for i in self.instruments]\n\u001b[0m\u001b[1;32m    789\u001b[0m         \u001b[0;31m# Allocate piano roll,\u001b[0m\u001b[0;34m\u001b[0m\u001b[0;34m\u001b[0m\u001b[0;34m\u001b[0m\u001b[0m\n\u001b[1;32m    790\u001b[0m         \u001b[0;31m# number of columns is max of # of columns in all piano rolls\u001b[0m\u001b[0;34m\u001b[0m\u001b[0;34m\u001b[0m\u001b[0;34m\u001b[0m\u001b[0m\n",
            "\u001b[0;32m/usr/local/lib/python3.7/dist-packages/pretty_midi/pretty_midi.py\u001b[0m in \u001b[0;36m<listcomp>\u001b[0;34m(.0)\u001b[0m\n\u001b[1;32m    786\u001b[0m         piano_rolls = [i.get_piano_roll(fs=fs, times=times,\n\u001b[1;32m    787\u001b[0m                                         pedal_threshold=pedal_threshold)\n\u001b[0;32m--> 788\u001b[0;31m                        for i in self.instruments]\n\u001b[0m\u001b[1;32m    789\u001b[0m         \u001b[0;31m# Allocate piano roll,\u001b[0m\u001b[0;34m\u001b[0m\u001b[0;34m\u001b[0m\u001b[0;34m\u001b[0m\u001b[0m\n\u001b[1;32m    790\u001b[0m         \u001b[0;31m# number of columns is max of # of columns in all piano rolls\u001b[0m\u001b[0;34m\u001b[0m\u001b[0;34m\u001b[0m\u001b[0;34m\u001b[0m\u001b[0m\n",
            "\u001b[0;32m/usr/local/lib/python3.7/dist-packages/pretty_midi/instrument.py\u001b[0m in \u001b[0;36mget_piano_roll\u001b[0;34m(self, fs, times, pedal_threshold)\u001b[0m\n\u001b[1;32m    119\u001b[0m             \u001b[0;31m# Should interpolate\u001b[0m\u001b[0;34m\u001b[0m\u001b[0;34m\u001b[0m\u001b[0;34m\u001b[0m\u001b[0m\n\u001b[1;32m    120\u001b[0m             piano_roll[note.pitch,\n\u001b[0;32m--> 121\u001b[0;31m                        int(note.start*fs):int(note.end*fs)] += note.velocity\n\u001b[0m\u001b[1;32m    122\u001b[0m \u001b[0;34m\u001b[0m\u001b[0m\n\u001b[1;32m    123\u001b[0m         \u001b[0;31m# Process sustain pedals\u001b[0m\u001b[0;34m\u001b[0m\u001b[0;34m\u001b[0m\u001b[0;34m\u001b[0m\u001b[0m\n",
            "\u001b[0;31mKeyboardInterrupt\u001b[0m: "
          ]
        }
      ]
    },
    {
      "cell_type": "markdown",
      "source": [
        "## Original onset and frame"
      ],
      "metadata": {
        "id": "1FxOEUywu2PJ"
      }
    },
    {
      "cell_type": "code",
      "source": [
        "data = test_dataset[1]\n",
        "print(f'data: {data}')\n",
        "print(f'audio_shape: {data[\"audio\"].shape}')\n",
        "print(f'frame_roll_shape: {data[\"frame\"].shape}')\n",
        "print(f'onset_roll_shape: {data[\"onset\"].shape}')\n",
        "\n",
        "print(f'HOP_SIZE({HOP_SIZE}) x piano_roll length({data[\"frame\"].shape[0]}): {HOP_SIZE*data[\"frame\"].shape[0]}')"
      ],
      "metadata": {
        "id": "DmyQZXfQfLK-"
      },
      "execution_count": null,
      "outputs": []
    },
    {
      "cell_type": "code",
      "source": [
        "plt.figure(figsize=(10,15))\n",
        "plt.subplot(311)\n",
        "plt.plot(data['audio'].numpy()[:400*HOP_SIZE])\n",
        "plt.autoscale(enable=True, axis='x', tight=True)\n",
        "plt.subplot(312)\n",
        "plt.imshow(data['frame'].numpy()[:400].T, aspect='auto', origin='bottom')\n",
        "plt.subplot(313)\n",
        "plt.imshow(data['onset'].numpy()[:400].T, aspect='auto', origin='bottom')"
      ],
      "metadata": {
        "id": "IvaH5sLzuuDu"
      },
      "execution_count": null,
      "outputs": []
    },
    {
      "cell_type": "markdown",
      "source": [
        "## Predicted Onset and Frame"
      ],
      "metadata": {
        "id": "MB8HvQrju_4y"
      }
    },
    {
      "cell_type": "code",
      "source": [],
      "metadata": {
        "id": "sV46BW5AuxK5"
      },
      "execution_count": null,
      "outputs": []
    }
  ],
  "metadata": {
    "accelerator": "GPU",
    "colab": {
      "collapsed_sections": [],
      "provenance": []
    },
    "kernelspec": {
      "display_name": "Python 3.8.13 ('main')",
      "language": "python",
      "name": "python3"
    },
    "language_info": {
      "codemirror_mode": {
        "name": "ipython",
        "version": 3
      },
      "file_extension": ".py",
      "mimetype": "text/x-python",
      "name": "python",
      "nbconvert_exporter": "python",
      "pygments_lexer": "ipython3",
      "version": "3.8.13"
    },
    "vscode": {
      "interpreter": {
        "hash": "ec7683314bf6f8cf49b488453331f4d3752754c8c3a73bab514a40cd4ee6ad89"
      }
    }
  },
  "nbformat": 4,
  "nbformat_minor": 0
}